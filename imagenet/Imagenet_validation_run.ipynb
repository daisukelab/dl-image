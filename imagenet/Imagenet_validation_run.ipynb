{
 "cells": [
  {
   "cell_type": "markdown",
   "metadata": {},
   "source": [
    "# Imagenet validation reproduction\n",
    "\n",
    "If we create our own classifier, we'd like to make sure it has appropriate ability to do the right job.\n",
    "One measure could be comparing with existing results which we can depend upon, ImageNet.\n",
    "If we want that the classifier has enough quality, training on ImageNet could be possible shortest path which make it easy to clarify how much it can do any further; can be reused as core part of object detector, style transfer, or anything.\n",
    "\n",
    "This notebook is explaining procedure to evaluate by following [pytorch example](https://github.com/pytorch/examples/tree/master/imagenet).\n",
    "\n",
    "## Procedures\n",
    "\n",
    "1. Download ImageNet dataset (ILSVRC 2012). Unpack training/validation files under `your/ilsvrc2012/train` and `your/ilsvrc2012/val`. Calling folder `your/ilsvrc2012` as `IMAGENET` later on.\n",
    "2. Run this as written in the example page.\n",
    "```sh\n",
    "cd {IMAGENET}/val\n",
    "wget https://raw.githubusercontent.com/soumith/imagenetloader.torch/master/valprep.sh\n",
    "sh valprep.sh\n",
    "```\n",
    "3. Followings are running validation with ResNet34."
   ]
  },
  {
   "cell_type": "code",
   "execution_count": 1,
   "metadata": {
    "collapsed": true
   },
   "outputs": [],
   "source": [
    "from pathlib import Path\n",
    "\n",
    "IMAGENET = Path('/mnt/dataset/imagenet/2012')"
   ]
  },
  {
   "cell_type": "code",
   "execution_count": 2,
   "metadata": {},
   "outputs": [
    {
     "name": "stdout",
     "output_type": "stream",
     "text": [
      "Cloning into 'examples'...\n",
      "remote: Enumerating objects: 3, done.\u001b[K\n",
      "remote: Counting objects: 100% (3/3), done.\u001b[K\n",
      "remote: Total 1758 (delta 2), reused 2 (delta 2), pack-reused 1755\u001b[K\n",
      "Receiving objects: 100% (1758/1758), 38.84 MiB | 9.15 MiB/s, done.\n",
      "Resolving deltas: 100% (922/922), done.\n",
      "Checking connectivity... done.\n"
     ]
    }
   ],
   "source": [
    "! git clone https://github.com/pytorch/examples.git"
   ]
  },
  {
   "cell_type": "code",
   "execution_count": 5,
   "metadata": {},
   "outputs": [
    {
     "name": "stdout",
     "output_type": "stream",
     "text": [
      "=> using pre-trained model 'resnet34'\n",
      "Test: [0/196]\tTime 3.420 (3.420)\tLoss 0.5336 (0.5336)\tAcc@1 83.203 (83.203)\tAcc@5 97.656 (97.656)\n",
      "Test: [10/196]\tTime 0.177 (0.771)\tLoss 1.0750 (0.7265)\tAcc@1 72.266 (80.433)\tAcc@5 93.359 (95.028)\n",
      "Test: [20/196]\tTime 1.630 (0.710)\tLoss 0.8416 (0.7605)\tAcc@1 84.375 (80.171)\tAcc@5 91.406 (94.661)\n",
      "Test: [30/196]\tTime 0.626 (0.655)\tLoss 0.8458 (0.7301)\tAcc@1 77.734 (81.212)\tAcc@5 94.141 (94.947)\n",
      "Test: [40/196]\tTime 1.675 (0.694)\tLoss 0.7316 (0.7761)\tAcc@1 80.469 (79.869)\tAcc@5 96.875 (94.922)\n",
      "Test: [50/196]\tTime 0.511 (0.689)\tLoss 0.5640 (0.7725)\tAcc@1 85.547 (79.672)\tAcc@5 95.703 (95.052)\n",
      "Test: [60/196]\tTime 0.237 (0.684)\tLoss 0.9986 (0.7866)\tAcc@1 73.828 (79.271)\tAcc@5 92.969 (95.088)\n",
      "Test: [70/196]\tTime 0.235 (0.688)\tLoss 0.7969 (0.7736)\tAcc@1 78.906 (79.610)\tAcc@5 95.312 (95.169)\n",
      "Test: [80/196]\tTime 0.551 (0.681)\tLoss 1.5458 (0.8002)\tAcc@1 61.328 (79.171)\tAcc@5 86.719 (94.821)\n",
      "Test: [90/196]\tTime 0.715 (0.688)\tLoss 1.9972 (0.8569)\tAcc@1 53.516 (77.992)\tAcc@5 82.812 (94.192)\n",
      "Test: [100/196]\tTime 0.236 (0.672)\tLoss 1.4031 (0.9128)\tAcc@1 63.672 (76.791)\tAcc@5 87.500 (93.541)\n",
      "Test: [110/196]\tTime 1.112 (0.678)\tLoss 0.9707 (0.9385)\tAcc@1 76.562 (76.334)\tAcc@5 92.578 (93.197)\n",
      "Test: [120/196]\tTime 0.236 (0.674)\tLoss 1.4640 (0.9603)\tAcc@1 67.188 (75.998)\tAcc@5 84.375 (92.885)\n",
      "Test: [130/196]\tTime 2.424 (0.683)\tLoss 0.7522 (0.9955)\tAcc@1 82.031 (75.128)\tAcc@5 94.141 (92.504)\n",
      "Test: [140/196]\tTime 0.179 (0.674)\tLoss 1.2471 (1.0131)\tAcc@1 71.484 (74.834)\tAcc@5 90.234 (92.318)\n",
      "Test: [150/196]\tTime 1.918 (0.674)\tLoss 1.3080 (1.0375)\tAcc@1 74.219 (74.452)\tAcc@5 87.891 (91.973)\n",
      "Test: [160/196]\tTime 0.180 (0.668)\tLoss 0.8660 (1.0554)\tAcc@1 79.688 (74.112)\tAcc@5 92.188 (91.731)\n",
      "Test: [170/196]\tTime 1.999 (0.669)\tLoss 0.6276 (1.0740)\tAcc@1 81.641 (73.575)\tAcc@5 96.875 (91.484)\n",
      "Test: [180/196]\tTime 0.180 (0.661)\tLoss 1.4199 (1.0909)\tAcc@1 64.453 (73.170)\tAcc@5 90.625 (91.294)\n",
      "Test: [190/196]\tTime 1.713 (0.663)\tLoss 1.2587 (1.0883)\tAcc@1 65.625 (73.149)\tAcc@5 93.359 (91.359)\n",
      " * Acc@1 73.314 Acc@5 91.420\n"
     ]
    }
   ],
   "source": [
    "! python examples/imagenet/main.py -a resnet34 --pretrained -e {IMAGENET}"
   ]
  },
  {
   "cell_type": "markdown",
   "metadata": {},
   "source": [
    "## Checking result\n",
    "\n",
    "In [facebook/fb.resnet.torch](https://github.com/facebook/fb.resnet.torch/blob/master/pretrained/README.md), ImageNet 1-crop error rates (224x224) is:\n",
    "\n",
    "| Network       | Top-1 error | Top-5 error |\n",
    "| ------------- | ----------- | ----------- |\n",
    "| ResNet-34     | 26.73       | 8.74        |\n",
    "\n",
    "Then '`Acc@1 73.314 Acc@5 91.420`' we got is confirmed to be close to above.\n",
    "\n",
    "Whenever we train our own model, we can confirm in similar fashion."
   ]
  },
  {
   "cell_type": "markdown",
   "metadata": {},
   "source": [
    "- - -\n",
    "### Appendix. Checking labels"
   ]
  },
  {
   "cell_type": "code",
   "execution_count": null,
   "metadata": {
    "collapsed": true
   },
   "outputs": [],
   "source": [
    "ILSVRC2012_DOWNLOAD = Path('/your/ilsvrc2012/download/to')"
   ]
  },
  {
   "cell_type": "code",
   "execution_count": 10,
   "metadata": {},
   "outputs": [
    {
     "name": "stdout",
     "output_type": "stream",
     "text": [
      "--2018-12-06 22:51:37--  https://gist.githubusercontent.com/xkumiyu/dd200f3f51986888c9151df4f2a9ef30/raw/1abd03d08fa465fd5cca34081031e42e422669a8/ILSVRC2012_ClassList.txt\n",
      "Resolving gist.githubusercontent.com (gist.githubusercontent.com)... 151.101.72.133\n",
      "Connecting to gist.githubusercontent.com (gist.githubusercontent.com)|151.101.72.133|:443... connected.\n",
      "HTTP request sent, awaiting response... 200 OK\n",
      "Length: 21674 (21K) [text/plain]\n",
      "Saving to: ‘ILSVRC2012_ClassList.txt’\n",
      "\n",
      "ILSVRC2012_ClassLis 100%[===================>]  21.17K  --.-KB/s    in 0.002s  \n",
      "\n",
      "2018-12-06 22:51:38 (8.45 MB/s) - ‘ILSVRC2012_ClassList.txt’ saved [21674/21674]\n",
      "\n"
     ]
    }
   ],
   "source": [
    "! wget https://gist.githubusercontent.com/xkumiyu/dd200f3f51986888c9151df4f2a9ef30/raw/1abd03d08fa465fd5cca34081031e42e422669a8/ILSVRC2012_ClassList.txt\n",
    "! mv ILSVRC2012_ClassList.txt {ILSVRC2012_DOWNLOAD}"
   ]
  },
  {
   "cell_type": "code",
   "execution_count": 11,
   "metadata": {
    "collapsed": true
   },
   "outputs": [],
   "source": [
    "# If you'd like to check labels\n",
    "with open(ILSVRC2012_DOWNLOAD/'ILSVRC2012_ClassList.txt') as f:\n",
    "    labels = f.read().splitlines()\n",
    "labels"
   ]
  },
  {
   "cell_type": "code",
   "execution_count": null,
   "metadata": {
    "collapsed": true
   },
   "outputs": [],
   "source": []
  }
 ],
 "metadata": {
  "kernelspec": {
   "display_name": "Python 3",
   "language": "python",
   "name": "python3"
  },
  "language_info": {
   "codemirror_mode": {
    "name": "ipython",
    "version": 3
   },
   "file_extension": ".py",
   "mimetype": "text/x-python",
   "name": "python",
   "nbconvert_exporter": "python",
   "pygments_lexer": "ipython3",
   "version": "3.6.2"
  }
 },
 "nbformat": 4,
 "nbformat_minor": 2
}
